{
 "cells": [
  {
   "cell_type": "markdown",
   "metadata": {
    "deletable": true,
    "editable": true
   },
   "source": [
    "# Title : Long Short Term Memory Recurrent         Neural Network Regression Tutorial By Daniel\n",
    "\n",
    "## Content:  I will create one Sine curve(blue line) which predict (Learn)another Cos  curve(red line)\n",
    "\n",
    "> Are you exciting now?  Follow me, step by step  !!! Just training with CPU. Don't worry about the dame high price of GPU !!!"
   ]
  },
  {
   "cell_type": "markdown",
   "metadata": {
    "deletable": true,
    "editable": true
   },
   "source": [
    "## 1. Import Package"
   ]
  },
  {
   "cell_type": "code",
   "execution_count": 1,
   "metadata": {
    "collapsed": false,
    "deletable": true,
    "editable": true
   },
   "outputs": [],
   "source": [
    "import tensorflow as tf # Google Deep Learning Framework\n",
    "import numpy as np\n",
    "import matplotlib.pyplot as plt"
   ]
  },
  {
   "cell_type": "markdown",
   "metadata": {
    "deletable": true,
    "editable": true
   },
   "source": [
    "## 2. Setting Hyperparameter "
   ]
  },
  {
   "cell_type": "code",
   "execution_count": 2,
   "metadata": {
    "collapsed": true,
    "deletable": true,
    "editable": true
   },
   "outputs": [],
   "source": [
    "BATCH_START = 0         # Create Batch Data Index\n",
    "TIME_STEPS = 20         # backpropagation through time \n",
    "BATCH_SIZE = 50         \n",
    "INPUT_SIZE = 1          # input size of sin\n",
    "OUTPUT_SIZE = 1         # cos size of \n",
    "CELL_SIZE = 10          # the hidden unit size of RNN\n",
    "LEARNING_RATE = 0.01    # learning rate"
   ]
  },
  {
   "cell_type": "markdown",
   "metadata": {
    "collapsed": true,
    "deletable": true,
    "editable": true
   },
   "source": [
    "# 3. LSTM RNN Model"
   ]
  },
  {
   "cell_type": "code",
   "execution_count": 3,
   "metadata": {
    "collapsed": true,
    "deletable": true,
    "editable": true
   },
   "outputs": [],
   "source": [
    "def weight_variable(shape, name='weights'):\n",
    "    \"\"\"\n",
    "    Weight\n",
    "    \"\"\"\n",
    "    initializer = tf.random_normal_initializer(mean=0., stddev=1.,)\n",
    "    return tf.get_variable(shape=shape, initializer=initializer, \n",
    "                           name=name)"
   ]
  },
  {
   "cell_type": "code",
   "execution_count": 4,
   "metadata": {
    "collapsed": true,
    "deletable": true,
    "editable": true
   },
   "outputs": [],
   "source": [
    "def bias_variable(shape, name='biases'):\n",
    "    \"\"\"\n",
    "    Biases\n",
    "    \"\"\"\n",
    "    initializer = tf.constant_initializer(0.1)\n",
    "    return tf.get_variable(name=name, shape=shape, initializer=initializer)"
   ]
  },
  {
   "cell_type": "code",
   "execution_count": 5,
   "metadata": {
    "collapsed": true,
    "deletable": true,
    "editable": true
   },
   "outputs": [],
   "source": [
    "def ms_error(y_target, y_pre):\n",
    "    \"\"\"\n",
    "    Mean Square Error\n",
    "    https://stackoverflow.com/questions/41338509/tensorflow-mean-squared-error-loss-function\n",
    "    \"\"\"\n",
    "    return tf.reduce_mean(tf.squared_difference(y_target, y_pre))"
   ]
  },
  {
   "cell_type": "markdown",
   "metadata": {
    "deletable": true,
    "editable": true
   },
   "source": [
    "### 3.1 Add Input Layer"
   ]
  },
  {
   "cell_type": "code",
   "execution_count": 6,
   "metadata": {
    "collapsed": false,
    "deletable": true,
    "editable": true
   },
   "outputs": [],
   "source": [
    "def add_input_layer(x_placeholder, input_size, cell_size, n_steps):\n",
    "    \n",
    "    # Due to x_placeholder is 3 Dimension, we should convert it into 2 Demension\n",
    "    l_in_x = tf.reshape(x_placeholder,[-1, input_size], name='3D_To_2D') #(batch*n_step, in_size)\n",
    "    \n",
    "    # Ws (in_size, cell_size)\n",
    "    Ws_in = weight_variable([input_size, cell_size])\n",
    "    \n",
    "    # bs (cell_size,)\n",
    "    bs_in = bias_variable([cell_size,])\n",
    "    # l_in_y = (batch*n_steps, cell_size)\n",
    "    with tf.name_scope('Wx_plus_b'):\n",
    "        l_in_y = tf.matmul(l_in_x, Ws_in) + bs_in\n",
    "    # reshape l_in_y ==> (batch, n_steps, cell_size)\n",
    "    l_in_y = tf.reshape(l_in_y, [-1, n_steps,cell_size], name='2D_To_3D')\n",
    "    return l_in_y"
   ]
  },
  {
   "cell_type": "markdown",
   "metadata": {
    "deletable": true,
    "editable": true
   },
   "source": [
    "## 3.2 Add LSTM Cell"
   ]
  },
  {
   "cell_type": "code",
   "execution_count": 7,
   "metadata": {
    "collapsed": true,
    "deletable": true,
    "editable": true
   },
   "outputs": [],
   "source": [
    "def add_cell(cell_size, batch_size, l_in_y):\n",
    "    lstm_cell = tf.contrib.rnn.BasicLSTMCell(cell_size, forget_bias=1.9,\n",
    "                                            state_is_tuple=True)\n",
    "    with tf.name_scope('initial_state'):\n",
    "        cell_init_state = lstm_cell.zero_state(batch_size, dtype=tf.float32)\n",
    "    \n",
    "    cell_outputs, cell_final_state = tf.nn.dynamic_rnn(lstm_cell,\n",
    "                                                       l_in_y,\n",
    "                                                       initial_state= cell_init_state, \n",
    "                                                       time_major=False)\n",
    "    \n",
    "    return cell_outputs, cell_init_state, cell_final_state"
   ]
  },
  {
   "cell_type": "markdown",
   "metadata": {
    "deletable": true,
    "editable": true
   },
   "source": [
    "## 3.3 Add Output Layer"
   ]
  },
  {
   "cell_type": "code",
   "execution_count": 8,
   "metadata": {
    "collapsed": false,
    "deletable": true,
    "editable": true
   },
   "outputs": [],
   "source": [
    "def add_output_layer(cell_outputs, cell_size, output_size):\n",
    "    # shape = (batch * steps, cell_size)\n",
    "    l_out_x = tf.reshape(cell_outputs, [-1, cell_size], name='3D_To_2D')\n",
    "    Ws_out = weight_variable([cell_size, output_size])\n",
    "    bs_out = bias_variable([output_size,])\n",
    "    # shape = (batch * steps, output_size)\n",
    "    with tf.name_scope('Wx_plus_b'):\n",
    "        pred = tf.matmul(l_out_x, Ws_out) + bs_out\n",
    "        return pred"
   ]
  },
  {
   "cell_type": "markdown",
   "metadata": {
    "deletable": true,
    "editable": true
   },
   "source": [
    "## 3.4 Compute Cost"
   ]
  },
  {
   "cell_type": "code",
   "execution_count": 9,
   "metadata": {
    "collapsed": true,
    "deletable": true,
    "editable": true
   },
   "outputs": [],
   "source": [
    "def compute_cost(pred, y_placeholder, batch_size, n_steps):\n",
    "    losses = tf.contrib.legacy_seq2seq.sequence_loss_by_example(\n",
    "    [tf.reshape(pred,[-1], name='reshape_pred')],\n",
    "    [tf.reshape(y_placeholder,[-1],name='reshape_target')],\n",
    "    [tf.ones([batch_size * n_steps], dtype=tf.float32)],\n",
    "    average_across_timesteps=True,\n",
    "    softmax_loss_function = ms_error,\n",
    "    name='losses'\n",
    "    )\n",
    "    with tf.name_scope('average_cost'):\n",
    "        cost = tf.div(tf.reduce_sum(losses, name='losses_sum'),\n",
    "                      batch_size,\n",
    "                      name=\"average_cost\")\n",
    "        tf.summary.scalar('cost', cost)\n",
    "        \n",
    "        return cost"
   ]
  },
  {
   "cell_type": "markdown",
   "metadata": {
    "deletable": true,
    "editable": true
   },
   "source": [
    "## 3.4 Create LSTM RNN Model"
   ]
  },
  {
   "cell_type": "code",
   "execution_count": 10,
   "metadata": {
    "collapsed": false,
    "deletable": true,
    "editable": true
   },
   "outputs": [],
   "source": [
    "class LSTMRNN(object):\n",
    "    def __init__(self, n_steps, input_size, output_size, cell_size, batch_size):\n",
    "    \n",
    "        self.n_steps = n_steps\n",
    "        self.input_size = input_size\n",
    "        self.output_size = output_size\n",
    "        self.cell_size = cell_size\n",
    "        self.batch_size = batch_size\n",
    "\n",
    "        \"\"\"\n",
    "        LSTM RNN Model Architecture\n",
    "        \"\"\" \n",
    "        with tf.name_scope('inputs'):\n",
    "            self.xs = tf.placeholder(tf.float32, [None, n_steps, input_size],\n",
    "                                name='xs')\n",
    "            self.ys = tf.placeholder(tf.float32, [None, n_steps, output_size],\n",
    "                                name='ys')\n",
    "        with tf.variable_scope('in_hidden'):\n",
    "            self.l_in_y = add_input_layer(self.xs, input_size, cell_size, n_steps)\n",
    "        with tf.variable_scope('LSTM_cell'):\n",
    "            self.cell_outputs, self.cell_init_state, self.cell_final_state = add_cell(cell_size, batch_size, \n",
    "                                                                                      self.l_in_y)\n",
    "        with tf.variable_scope('out_hidden'):\n",
    "            self.pred = add_output_layer(self.cell_outputs, cell_size, output_size)\n",
    "       \n",
    "        with tf.name_scope('cost'):\n",
    "            self.cost = compute_cost(self.pred, self.ys, batch_size, n_steps)\n",
    "        \n",
    "        with tf.name_scope('train'):\n",
    "            self.train_op = tf.train.AdamOptimizer(LEARNING_RATE).minimize(self.cost)\n",
    "      \n",
    "   "
   ]
  },
  {
   "cell_type": "markdown",
   "metadata": {
    "deletable": true,
    "editable": true
   },
   "source": [
    "## 4.Initial Model & Generate TensorFlow Event Files"
   ]
  },
  {
   "cell_type": "code",
   "execution_count": null,
   "metadata": {
    "collapsed": false,
    "deletable": true,
    "editable": true,
    "scrolled": false
   },
   "outputs": [],
   "source": [
    "# Initial Long Short Term Memory Recurrent Neural Network\n",
    "model = LSTMRNN(TIME_STEPS, INPUT_SIZE, OUTPUT_SIZE,CELL_SIZE, BATCH_SIZE)\n",
    "\n",
    "# Combine all \n",
    "merged = tf.summary.merge_all()\n"
   ]
  },
  {
   "cell_type": "markdown",
   "metadata": {
    "collapsed": true,
    "deletable": true,
    "editable": true
   },
   "source": [
    "## 4.Train LSTM RNN Model"
   ]
  },
  {
   "cell_type": "code",
   "execution_count": null,
   "metadata": {
    "collapsed": false,
    "deletable": true,
    "editable": true,
    "scrolled": false
   },
   "outputs": [
    {
     "name": "stdout",
     "output_type": "stream",
     "text": [
      "cost:  26.7399\n",
      "cost:  0.1239\n",
      "cost:  0.0883\n",
      "cost:  0.0779\n"
     ]
    }
   ],
   "source": [
    "with tf.Session() as sess:\n",
    "    \n",
    "    writer = tf.summary.FileWriter(\"logs\", sess.graph)\n",
    "        \n",
    "    sess.run(tf.global_variables_initializer())\n",
    "    \n",
    "    \n",
    "    \n",
    "\n",
    "   \n",
    "    \n",
    "    for i in range(200): \n",
    "        \n",
    "     \n",
    "        # Generate xs shape (50 batch, 20 steps)\n",
    "        x_data = np.arange(BATCH_START, \n",
    "                           BATCH_START+TIME_STEPS*BATCH_SIZE).reshape(\n",
    "                          (BATCH_SIZE,TIME_STEPS))\n",
    "\n",
    "        # Sine Curve\n",
    "        seq = np.sin(x_data)[:,:,np.newaxis]\n",
    "        \n",
    "        # Cos Curve\n",
    "        res = np.cos(x_data)[:,:,np.newaxis]\n",
    "\n",
    "        BATCH_START += TIME_STEPS\n",
    "\n",
    "        if i == 0:\n",
    "            feed_dict = {\n",
    "                model.xs: seq,\n",
    "                model.ys: res,\n",
    "            }\n",
    "        else: \n",
    "            feed_dict = {\n",
    "                model.xs: seq,\n",
    "                model.ys: res,\n",
    "                model.cell_init_state: state\n",
    "            }\n",
    "\n",
    "        # Trainning \n",
    "        _, cost, state, pred = sess.run([model.train_op, model.cost, model.cell_final_state, model.pred],feed_dict = feed_dict)\n",
    "\n",
    "        # plotting\n",
    "        \n",
    "\n",
    "\n",
    "        # plotting\n",
    "        plt.ion()\n",
    "        plt.show()\n",
    "        plt.plot(x_data[0, :], res[0].flatten(), 'r', x_data[0, :], pred.flatten()[:TIME_STEPS], 'b--')\n",
    "        plt.ylim((-1.2, 1.2))\n",
    "        plt.draw()\n",
    "        plt.pause(0.3)  # 每 0.3 s 刷新一次\n",
    "\n",
    "      \n",
    "\n",
    "  \n",
    "\n",
    "        # Obeser the cost value in every 20 steps\n",
    "        if i % 20 == 0:\n",
    "            print('cost: ', round(cost, 4))\n",
    "            result = sess.run(merged, feed_dict)\n",
    "            writer.add_summary(result,i)\n",
    "\n"
   ]
  },
  {
   "cell_type": "code",
   "execution_count": null,
   "metadata": {
    "collapsed": true,
    "deletable": true,
    "editable": true
   },
   "outputs": [],
   "source": []
  },
  {
   "cell_type": "code",
   "execution_count": null,
   "metadata": {
    "collapsed": true,
    "deletable": true,
    "editable": true
   },
   "outputs": [],
   "source": []
  },
  {
   "cell_type": "code",
   "execution_count": null,
   "metadata": {
    "collapsed": true,
    "deletable": true,
    "editable": true
   },
   "outputs": [],
   "source": []
  },
  {
   "cell_type": "code",
   "execution_count": null,
   "metadata": {
    "collapsed": true,
    "deletable": true,
    "editable": true
   },
   "outputs": [],
   "source": []
  },
  {
   "cell_type": "code",
   "execution_count": null,
   "metadata": {
    "collapsed": true,
    "deletable": true,
    "editable": true
   },
   "outputs": [],
   "source": []
  },
  {
   "cell_type": "code",
   "execution_count": null,
   "metadata": {
    "collapsed": true,
    "deletable": true,
    "editable": true
   },
   "outputs": [],
   "source": []
  },
  {
   "cell_type": "code",
   "execution_count": null,
   "metadata": {
    "collapsed": true,
    "deletable": true,
    "editable": true
   },
   "outputs": [],
   "source": []
  },
  {
   "cell_type": "code",
   "execution_count": null,
   "metadata": {
    "collapsed": true,
    "deletable": true,
    "editable": true
   },
   "outputs": [],
   "source": []
  },
  {
   "cell_type": "code",
   "execution_count": null,
   "metadata": {
    "collapsed": true,
    "deletable": true,
    "editable": true
   },
   "outputs": [],
   "source": []
  }
 ],
 "metadata": {
  "anaconda-cloud": {},
  "kernelspec": {
   "display_name": "Python 3",
   "language": "python",
   "name": "python3"
  },
  "language_info": {
   "codemirror_mode": {
    "name": "ipython",
    "version": 3
   },
   "file_extension": ".py",
   "mimetype": "text/x-python",
   "name": "python",
   "nbconvert_exporter": "python",
   "pygments_lexer": "ipython3",
   "version": "3.5.3"
  }
 },
 "nbformat": 4,
 "nbformat_minor": 2
}
