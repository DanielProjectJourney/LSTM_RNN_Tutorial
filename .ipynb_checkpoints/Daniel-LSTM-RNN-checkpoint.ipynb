{
 "cells": [
  {
   "cell_type": "markdown",
   "metadata": {
    "deletable": true,
    "editable": true
   },
   "source": [
    "# Title : LSTM RNN Regression By Daniel\n",
    "## Content:  I will create one sine curve which predict one cos  curve"
   ]
  },
  {
   "cell_type": "code",
   "execution_count": 1,
   "metadata": {
    "collapsed": true,
    "deletable": true,
    "editable": true
   },
   "outputs": [],
   "source": [
    "import tensorflow as tf\n",
    "import numpy as np\n",
    "import matplotlib.pyplot as plt"
   ]
  },
  {
   "cell_type": "markdown",
   "metadata": {
    "deletable": true,
    "editable": true
   },
   "source": [
    "## 1. Hyperparameter Setting"
   ]
  },
  {
   "cell_type": "code",
   "execution_count": 2,
   "metadata": {
    "collapsed": true,
    "deletable": true,
    "editable": true
   },
   "outputs": [],
   "source": [
    "BATCH_START = 0         # Create Batch Data Index\n",
    "TIME_STEPS = 20         # backpropagation through time \n",
    "BATCH_SIZE = 50         \n",
    "INPUT_SIZE = 1          # input size of sin\n",
    "OUTPUT_SIZE = 1         # cos size of \n",
    "CELL_SIZE = 10          # the hidden unit size of RNN\n",
    "LEARNING_RATE = 0.06    # learning rate"
   ]
  },
  {
   "cell_type": "markdown",
   "metadata": {
    "deletable": true,
    "editable": true
   },
   "source": [
    "## 2. Generating Data"
   ]
  },
  {
   "cell_type": "code",
   "execution_count": 3,
   "metadata": {
    "collapsed": false
   },
   "outputs": [],
   "source": [
    "xs = np.arange(BATCH_START, \n",
    "               BATCH_START+TIME_STEPS*BATCH_SIZE).reshape(\n",
    "            (BATCH_SIZE,TIME_STEPS))/(10*np.pi)\n",
    "\n",
    "seq = np.sin(xs)[:,:,np.newaxis]\n",
    "res = np.cos(xs)[:,:,np.newaxis]"
   ]
  },
  {
   "cell_type": "markdown",
   "metadata": {
    "collapsed": true,
    "deletable": true,
    "editable": true
   },
   "source": [
    "# 3. LSTM RNN Model"
   ]
  },
  {
   "cell_type": "code",
   "execution_count": 4,
   "metadata": {
    "collapsed": true
   },
   "outputs": [],
   "source": [
    "def ms_error(y_target, y_pre):\n",
    "    \"\"\"\n",
    "    Mean Square Error\n",
    "    https://stackoverflow.com/questions/41338509/tensorflow-mean-squared-error-loss-function\n",
    "    \"\"\"\n",
    "    return tf.reduce_mean(tf.squared_difference(y_target, y_pre))"
   ]
  },
  {
   "cell_type": "code",
   "execution_count": 5,
   "metadata": {
    "collapsed": true
   },
   "outputs": [],
   "source": [
    "def weight_variable(shape, name='weights'):\n",
    "    \"\"\"\n",
    "    Weight\n",
    "    \"\"\"\n",
    "    initializer = tf.random_normal_initializer(mean=0., stddev=1.,)\n",
    "    return tf.get_variable(shape=shape, initializer=initializer, \n",
    "                           name=name)"
   ]
  },
  {
   "cell_type": "code",
   "execution_count": 6,
   "metadata": {
    "collapsed": true
   },
   "outputs": [],
   "source": [
    "def bias_variable(shape, name='biases'):\n",
    "    \"\"\"\n",
    "    Biases\n",
    "    \"\"\"\n",
    "    initializer = tf.constant_initializer(0.1)\n",
    "    return tf.get_variable(name=name, shape=shape, initializer=initializer)"
   ]
  },
  {
   "cell_type": "markdown",
   "metadata": {},
   "source": [
    "### 3.1 Add Input Layer"
   ]
  },
  {
   "cell_type": "code",
   "execution_count": 7,
   "metadata": {
    "collapsed": false
   },
   "outputs": [],
   "source": [
    "def add_input_layer(input_data, input_size, cell_size, n_steps):\n",
    "    l_in_x = tf.reshape(input_data,[-1, input_size], name='2_2D') #(batch*n_step, in_size)\n",
    "    # Ws (in_size, cell_size)\n",
    "    Ws_in = weight_variable([input_size, cell_size])\n",
    "    # bs (cell_size,)\n",
    "    bs_in = bias_variable([cell_size,])\n",
    "    # l_in_y = (batch*n_steps, cell_size)\n",
    "    with tf.name_scope('Wx_plus_b'):\n",
    "        l_in_y = tf.matmul(l_in_x, Ws_in) + bs_in\n",
    "    # reshape l_in_y ==> (batch, n_steps, cell_size)\n",
    "    l_in_y = tf.reshape(l_in_y, [-1, n_steps,cell_size], name='2_3D')\n",
    "    return l_in_y"
   ]
  },
  {
   "cell_type": "markdown",
   "metadata": {},
   "source": [
    "## 3.2 Add Cell"
   ]
  },
  {
   "cell_type": "code",
   "execution_count": 8,
   "metadata": {
    "collapsed": true
   },
   "outputs": [],
   "source": [
    "def add_cell(cell_size, batch_size, l_in_y):\n",
    "    lstm_cell = tf.contrib.rnn.BasicLSTMCell(cell_size, forget_bias=1.9,\n",
    "                                            state_is_tuple=True)\n",
    "    with tf.name_scope('initial_state'):\n",
    "        cell_init_state = lstm_cell.zero_state(batch_size, \n",
    "                                               dtype=tf.float32)\n",
    "    cell_outputs, cell_final_state = tf.nn.dynamic_rnn(\n",
    "    lstm_cell, l_in_y, initial_state=cell_init_state, time_major=False)\n",
    "    return cell_outputs"
   ]
  },
  {
   "cell_type": "markdown",
   "metadata": {},
   "source": [
    "## 3.3 Add Output Layer"
   ]
  },
  {
   "cell_type": "code",
   "execution_count": 9,
   "metadata": {
    "collapsed": false
   },
   "outputs": [],
   "source": [
    "def add_output_layer(cell_outputs, cell_size, output_size):\n",
    "    # shape = (batch * steps, cell_size)\n",
    "    l_out_x = tf.reshape(cell_outputs, [-1, cell_size], name='2_2D')\n",
    "    Ws_out = weight_variable([cell_size, output_size])\n",
    "    bs_out = bias_variable([output_size,])\n",
    "    # shape = (batch * steps, output_size)\n",
    "    with tf.name_scope('Wx_plus_b'):\n",
    "        pred = tf.matmul(l_out_x, Ws_out) + bs_out\n",
    "        return pred"
   ]
  },
  {
   "cell_type": "markdown",
   "metadata": {},
   "source": [
    "## 3.4 Compute Cost"
   ]
  },
  {
   "cell_type": "code",
   "execution_count": 10,
   "metadata": {
    "collapsed": true
   },
   "outputs": [],
   "source": [
    "def compute_cost(pred, ys, batch_size, n_steps):\n",
    "    losses = tf.contrib.legacy_seq2seq.sequence_loss_by_example(\n",
    "    [tf.reshape(pred,[-1], name='reshape_pred')],\n",
    "    [tf.reshape(ys,[-1],name='reshape_target')],\n",
    "    [tf.ones([batch_size * n_steps], dtype=tf.float32)],\n",
    "    average_across_timesteps=True,\n",
    "    softmax_loss_function = ms_error,\n",
    "    name='losses'\n",
    "    )"
   ]
  },
  {
   "cell_type": "markdown",
   "metadata": {},
   "source": [
    "## 3.4 Create LSTM RNN Model"
   ]
  },
  {
   "cell_type": "code",
   "execution_count": 11,
   "metadata": {
    "collapsed": true,
    "deletable": true,
    "editable": true
   },
   "outputs": [],
   "source": [
    "def LSTMRNN(n_steps, input_size, output_size, cell_size, batch_size):\n",
    "    \"\"\"\n",
    "    LSTM RNN Model Architecture\n",
    "    \"\"\" \n",
    "    with tf.name_scope('inputs'):\n",
    "        xs = tf.placeholder(tf.float32, [None, n_steps, input_size],\n",
    "                            name='xs')\n",
    "        ys = tf.placeholder(tf.float32, [None, n_steps, output_size],\n",
    "                            name='ys')\n",
    "    with tf.variable_scope('in_hidden'):\n",
    "        l_in_y = add_input_layer(xs, input_size, cell_size, n_steps)\n",
    "    with tf.variable_scope('LSTM_cell'):\n",
    "        cell_outputs = add_cell(cell_size, batch_size, l_in_y)\n",
    "    with tf.variable_scope('out_hidden'):\n",
    "        pred = add_output_layer(cell_outputs, cell_size, output_size)\n",
    "    with tf.name_scope('cost'):\n",
    "        compute_cost(pred, ys, batch_size, n_steps)\n",
    "    with tf.name_scope('train'):\n",
    "        train_op = tf.train.AdamOptimizer(LR).minimize(cost)\n",
    "    "
   ]
  },
  {
   "cell_type": "markdown",
   "metadata": {
    "collapsed": true,
    "deletable": true,
    "editable": true
   },
   "source": [
    "## 4.Train LSTM RNN Model"
   ]
  },
  {
   "cell_type": "code",
   "execution_count": 12,
   "metadata": {
    "collapsed": false,
    "deletable": true,
    "editable": true
   },
   "outputs": [
    {
     "ename": "AttributeError",
     "evalue": "module 'tensorflow' has no attribute 'sub'",
     "output_type": "error",
     "traceback": [
      "\u001b[0;31m---------------------------------------------------------------------------\u001b[0m",
      "\u001b[0;31mAttributeError\u001b[0m                            Traceback (most recent call last)",
      "\u001b[0;32m<ipython-input-12-7d2bba25fca1>\u001b[0m in \u001b[0;36m<module>\u001b[0;34m()\u001b[0m\n\u001b[0;32m----> 1\u001b[0;31m \u001b[0mmodel\u001b[0m \u001b[0;34m=\u001b[0m \u001b[0mLSTMRNN\u001b[0m\u001b[0;34m(\u001b[0m\u001b[0mTIME_STEPS\u001b[0m\u001b[0;34m,\u001b[0m \u001b[0mINPUT_SIZE\u001b[0m\u001b[0;34m,\u001b[0m \u001b[0mOUTPUT_SIZE\u001b[0m\u001b[0;34m,\u001b[0m \u001b[0mCELL_SIZE\u001b[0m\u001b[0;34m,\u001b[0m \u001b[0mBATCH_SIZE\u001b[0m\u001b[0;34m)\u001b[0m\u001b[0;34m\u001b[0m\u001b[0m\n\u001b[0m\u001b[1;32m      2\u001b[0m \u001b[0;34m\u001b[0m\u001b[0m\n\u001b[1;32m      3\u001b[0m \u001b[0;32mwith\u001b[0m \u001b[0mSession\u001b[0m \u001b[0;32mas\u001b[0m \u001b[0msess\u001b[0m\u001b[0;34m:\u001b[0m\u001b[0;34m\u001b[0m\u001b[0m\n\u001b[1;32m      4\u001b[0m     \u001b[0msess\u001b[0m\u001b[0;34m.\u001b[0m\u001b[0mrun\u001b[0m\u001b[0;34m(\u001b[0m\u001b[0mtf\u001b[0m\u001b[0;34m.\u001b[0m\u001b[0mglobal_variables_initializer\u001b[0m\u001b[0;34m(\u001b[0m\u001b[0;34m)\u001b[0m\u001b[0;34m)\u001b[0m\u001b[0;34m\u001b[0m\u001b[0m\n\u001b[1;32m      5\u001b[0m \u001b[0;34m\u001b[0m\u001b[0m\n",
      "\u001b[0;32m<ipython-input-11-8af95e3716fc>\u001b[0m in \u001b[0;36mLSTMRNN\u001b[0;34m(n_steps, input_size, output_size, cell_size, batch_size)\u001b[0m\n\u001b[1;32m     15\u001b[0m         \u001b[0mpred\u001b[0m \u001b[0;34m=\u001b[0m \u001b[0madd_output_layer\u001b[0m\u001b[0;34m(\u001b[0m\u001b[0mcell_outputs\u001b[0m\u001b[0;34m,\u001b[0m \u001b[0mcell_size\u001b[0m\u001b[0;34m,\u001b[0m \u001b[0moutput_size\u001b[0m\u001b[0;34m)\u001b[0m\u001b[0;34m\u001b[0m\u001b[0m\n\u001b[1;32m     16\u001b[0m     \u001b[0;32mwith\u001b[0m \u001b[0mtf\u001b[0m\u001b[0;34m.\u001b[0m\u001b[0mname_scope\u001b[0m\u001b[0;34m(\u001b[0m\u001b[0;34m'cost'\u001b[0m\u001b[0;34m)\u001b[0m\u001b[0;34m:\u001b[0m\u001b[0;34m\u001b[0m\u001b[0m\n\u001b[0;32m---> 17\u001b[0;31m         \u001b[0mcompute_cost\u001b[0m\u001b[0;34m(\u001b[0m\u001b[0mpred\u001b[0m\u001b[0;34m,\u001b[0m \u001b[0mys\u001b[0m\u001b[0;34m,\u001b[0m \u001b[0mbatch_size\u001b[0m\u001b[0;34m,\u001b[0m \u001b[0mn_steps\u001b[0m\u001b[0;34m)\u001b[0m\u001b[0;34m\u001b[0m\u001b[0m\n\u001b[0m\u001b[1;32m     18\u001b[0m     \u001b[0;32mwith\u001b[0m \u001b[0mtf\u001b[0m\u001b[0;34m.\u001b[0m\u001b[0mname_scope\u001b[0m\u001b[0;34m(\u001b[0m\u001b[0;34m'train'\u001b[0m\u001b[0;34m)\u001b[0m\u001b[0;34m:\u001b[0m\u001b[0;34m\u001b[0m\u001b[0m\n\u001b[1;32m     19\u001b[0m         \u001b[0mtrain_op\u001b[0m \u001b[0;34m=\u001b[0m \u001b[0mtf\u001b[0m\u001b[0;34m.\u001b[0m\u001b[0mtrain\u001b[0m\u001b[0;34m.\u001b[0m\u001b[0mAdamOptimizer\u001b[0m\u001b[0;34m(\u001b[0m\u001b[0mLR\u001b[0m\u001b[0;34m)\u001b[0m\u001b[0;34m.\u001b[0m\u001b[0mminimize\u001b[0m\u001b[0;34m(\u001b[0m\u001b[0mcost\u001b[0m\u001b[0;34m)\u001b[0m\u001b[0;34m\u001b[0m\u001b[0m\n",
      "\u001b[0;32m<ipython-input-10-e61692fb911a>\u001b[0m in \u001b[0;36mcompute_cost\u001b[0;34m(pred, ys, batch_size, n_steps)\u001b[0m\n\u001b[1;32m      6\u001b[0m     \u001b[0maverage_across_timesteps\u001b[0m\u001b[0;34m=\u001b[0m\u001b[0;32mTrue\u001b[0m\u001b[0;34m,\u001b[0m\u001b[0;34m\u001b[0m\u001b[0m\n\u001b[1;32m      7\u001b[0m     \u001b[0msoftmax_loss_function\u001b[0m \u001b[0;34m=\u001b[0m \u001b[0mms_error\u001b[0m\u001b[0;34m,\u001b[0m\u001b[0;34m\u001b[0m\u001b[0m\n\u001b[0;32m----> 8\u001b[0;31m     \u001b[0mname\u001b[0m\u001b[0;34m=\u001b[0m\u001b[0;34m'losses'\u001b[0m\u001b[0;34m\u001b[0m\u001b[0m\n\u001b[0m\u001b[1;32m      9\u001b[0m     )\n",
      "\u001b[0;32m/Users/daniel/miniconda3/envs/tensorflow/lib/python3.5/site-packages/tensorflow/contrib/legacy_seq2seq/python/ops/seq2seq.py\u001b[0m in \u001b[0;36msequence_loss_by_example\u001b[0;34m(logits, targets, weights, average_across_timesteps, softmax_loss_function, name)\u001b[0m\n\u001b[1;32m   1065\u001b[0m             labels=target, logits=logit)\n\u001b[1;32m   1066\u001b[0m       \u001b[0;32melse\u001b[0m\u001b[0;34m:\u001b[0m\u001b[0;34m\u001b[0m\u001b[0m\n\u001b[0;32m-> 1067\u001b[0;31m         \u001b[0mcrossent\u001b[0m \u001b[0;34m=\u001b[0m \u001b[0msoftmax_loss_function\u001b[0m\u001b[0;34m(\u001b[0m\u001b[0mtarget\u001b[0m\u001b[0;34m,\u001b[0m \u001b[0mlogit\u001b[0m\u001b[0;34m)\u001b[0m\u001b[0;34m\u001b[0m\u001b[0m\n\u001b[0m\u001b[1;32m   1068\u001b[0m       \u001b[0mlog_perp_list\u001b[0m\u001b[0;34m.\u001b[0m\u001b[0mappend\u001b[0m\u001b[0;34m(\u001b[0m\u001b[0mcrossent\u001b[0m \u001b[0;34m*\u001b[0m \u001b[0mweight\u001b[0m\u001b[0;34m)\u001b[0m\u001b[0;34m\u001b[0m\u001b[0m\n\u001b[1;32m   1069\u001b[0m     \u001b[0mlog_perps\u001b[0m \u001b[0;34m=\u001b[0m \u001b[0mmath_ops\u001b[0m\u001b[0;34m.\u001b[0m\u001b[0madd_n\u001b[0m\u001b[0;34m(\u001b[0m\u001b[0mlog_perp_list\u001b[0m\u001b[0;34m)\u001b[0m\u001b[0;34m\u001b[0m\u001b[0m\n",
      "\u001b[0;32m<ipython-input-4-befa59e15eb9>\u001b[0m in \u001b[0;36mms_error\u001b[0;34m(y_target, y_pre)\u001b[0m\n\u001b[1;32m      3\u001b[0m     \u001b[0mMean\u001b[0m \u001b[0mSquare\u001b[0m \u001b[0mError\u001b[0m\u001b[0;34m\u001b[0m\u001b[0m\n\u001b[1;32m      4\u001b[0m     \"\"\"\n\u001b[0;32m----> 5\u001b[0;31m     \u001b[0;32mreturn\u001b[0m \u001b[0mtf\u001b[0m\u001b[0;34m.\u001b[0m\u001b[0msquare\u001b[0m\u001b[0;34m(\u001b[0m\u001b[0mtf\u001b[0m\u001b[0;34m.\u001b[0m\u001b[0msub\u001b[0m\u001b[0;34m(\u001b[0m\u001b[0my_target\u001b[0m\u001b[0;34m,\u001b[0m \u001b[0my_pre\u001b[0m\u001b[0;34m)\u001b[0m\u001b[0;34m)\u001b[0m\u001b[0;34m\u001b[0m\u001b[0m\n\u001b[0m",
      "\u001b[0;31mAttributeError\u001b[0m: module 'tensorflow' has no attribute 'sub'"
     ]
    }
   ],
   "source": [
    "model = LSTMRNN(TIME_STEPS, INPUT_SIZE, OUTPUT_SIZE, CELL_SIZE, BATCH_SIZE)\n",
    "\n",
    "with Session as sess:\n",
    "    sess.run(tf.global_variables_initializer())\n",
    "    \n",
    "    for i in range(200):\n",
    "        \n",
    "        BATCH_START += TIME_STEPS\n",
    "        if i == 0:\n",
    "            feed_dict = {\n",
    "                model.xs: seq,\n",
    "                model.ys: res,\n",
    "            }\n",
    "        else: \n",
    "            feed_dict = {\n",
    "                model.xs: seq,\n",
    "                model.ys: res,\n",
    "                model.cell_init_state: state\n",
    "            }\n",
    "        \n",
    "        # Trainning \n",
    "        _, cost, state, pred = sess.run(\n",
    "            [model.train_op, model.cost, modelcell_final_state, model.pred],\n",
    "            feed_dict = feed_dict)\n",
    "        \n",
    "        if i % 20 == 0:\n",
    "            print('cost: ', round(cost, 4))"
   ]
  },
  {
   "cell_type": "code",
   "execution_count": null,
   "metadata": {
    "collapsed": true,
    "deletable": true,
    "editable": true
   },
   "outputs": [],
   "source": []
  },
  {
   "cell_type": "code",
   "execution_count": null,
   "metadata": {
    "collapsed": true,
    "deletable": true,
    "editable": true
   },
   "outputs": [],
   "source": []
  },
  {
   "cell_type": "code",
   "execution_count": null,
   "metadata": {
    "collapsed": true,
    "deletable": true,
    "editable": true
   },
   "outputs": [],
   "source": []
  },
  {
   "cell_type": "code",
   "execution_count": null,
   "metadata": {
    "collapsed": true,
    "deletable": true,
    "editable": true
   },
   "outputs": [],
   "source": []
  },
  {
   "cell_type": "code",
   "execution_count": null,
   "metadata": {
    "collapsed": true,
    "deletable": true,
    "editable": true
   },
   "outputs": [],
   "source": []
  },
  {
   "cell_type": "code",
   "execution_count": null,
   "metadata": {
    "collapsed": true,
    "deletable": true,
    "editable": true
   },
   "outputs": [],
   "source": []
  },
  {
   "cell_type": "code",
   "execution_count": null,
   "metadata": {
    "collapsed": true,
    "deletable": true,
    "editable": true
   },
   "outputs": [],
   "source": []
  },
  {
   "cell_type": "code",
   "execution_count": null,
   "metadata": {
    "collapsed": true,
    "deletable": true,
    "editable": true
   },
   "outputs": [],
   "source": []
  },
  {
   "cell_type": "code",
   "execution_count": null,
   "metadata": {
    "collapsed": true,
    "deletable": true,
    "editable": true
   },
   "outputs": [],
   "source": []
  },
  {
   "cell_type": "code",
   "execution_count": null,
   "metadata": {
    "collapsed": true,
    "deletable": true,
    "editable": true
   },
   "outputs": [],
   "source": []
  }
 ],
 "metadata": {
  "kernelspec": {
   "display_name": "Python 3",
   "language": "python",
   "name": "python3"
  },
  "language_info": {
   "codemirror_mode": {
    "name": "ipython",
    "version": 3
   },
   "file_extension": ".py",
   "mimetype": "text/x-python",
   "name": "python",
   "nbconvert_exporter": "python",
   "pygments_lexer": "ipython3",
   "version": "3.5.3"
  }
 },
 "nbformat": 4,
 "nbformat_minor": 2
}
